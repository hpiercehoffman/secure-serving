{
 "cells": [
  {
   "cell_type": "markdown",
   "id": "ba6068ef-a690-45aa-8ad0-d0b4ff1fcd6b",
   "metadata": {},
   "source": [
    "### Let's train a tensorflow model for sentiment analysis ###"
   ]
  },
  {
   "cell_type": "code",
   "execution_count": 1,
   "id": "d7c0b61d-f374-41f6-abad-1f4deb8d05e3",
   "metadata": {},
   "outputs": [
    {
     "name": "stderr",
     "output_type": "stream",
     "text": [
      "2023-11-03 15:30:16.891572: I tensorflow/core/platform/cpu_feature_guard.cc:182] This TensorFlow binary is optimized to use available CPU instructions in performance-critical operations.\n",
      "To enable the following instructions: AVX2 FMA, in other operations, rebuild TensorFlow with the appropriate compiler flags.\n"
     ]
    },
    {
     "name": "stdout",
     "output_type": "stream",
     "text": [
      "Downloading data from https://storage.googleapis.com/tensorflow/tf-keras-datasets/imdb.npz\n",
      "17464789/17464789 [==============================] - 0s 0us/step\n",
      "Model: \"sequential\"\n",
      "_________________________________________________________________\n",
      " Layer (type)                Output Shape              Param #   \n",
      "=================================================================\n",
      " embedding (Embedding)       (None, 200, 32)           320000    \n",
      "                                                                 \n",
      " flatten (Flatten)           (None, 6400)              0         \n",
      "                                                                 \n",
      " dense (Dense)               (None, 1)                 6401      \n",
      "                                                                 \n",
      "=================================================================\n",
      "Total params: 326401 (1.25 MB)\n",
      "Trainable params: 326401 (1.25 MB)\n",
      "Non-trainable params: 0 (0.00 Byte)\n",
      "_________________________________________________________________\n",
      "Epoch 1/10\n",
      "157/157 [==============================] - 2s 9ms/step - loss: 0.6337 - accuracy: 0.6539 - val_loss: 0.4574 - val_accuracy: 0.8240\n",
      "Epoch 2/10\n",
      "157/157 [==============================] - 1s 9ms/step - loss: 0.3236 - accuracy: 0.8801 - val_loss: 0.3068 - val_accuracy: 0.8752\n",
      "Epoch 3/10\n",
      "157/157 [==============================] - 2s 13ms/step - loss: 0.2091 - accuracy: 0.9265 - val_loss: 0.2842 - val_accuracy: 0.8802\n",
      "Epoch 4/10\n",
      "157/157 [==============================] - 1s 7ms/step - loss: 0.1466 - accuracy: 0.9559 - val_loss: 0.2847 - val_accuracy: 0.8794\n",
      "Epoch 5/10\n",
      "157/157 [==============================] - 1s 7ms/step - loss: 0.1021 - accuracy: 0.9758 - val_loss: 0.2922 - val_accuracy: 0.8784\n",
      "Epoch 6/10\n",
      "157/157 [==============================] - 1s 6ms/step - loss: 0.0676 - accuracy: 0.9891 - val_loss: 0.3008 - val_accuracy: 0.8832\n",
      "Epoch 7/10\n",
      "157/157 [==============================] - 1s 7ms/step - loss: 0.0445 - accuracy: 0.9952 - val_loss: 0.3132 - val_accuracy: 0.8796\n",
      "Epoch 8/10\n",
      "157/157 [==============================] - 1s 7ms/step - loss: 0.0302 - accuracy: 0.9984 - val_loss: 0.3242 - val_accuracy: 0.8790\n",
      "Epoch 9/10\n",
      "157/157 [==============================] - 1s 7ms/step - loss: 0.0212 - accuracy: 0.9995 - val_loss: 0.3361 - val_accuracy: 0.8788\n",
      "Epoch 10/10\n",
      "157/157 [==============================] - 1s 6ms/step - loss: 0.0153 - accuracy: 0.9997 - val_loss: 0.3494 - val_accuracy: 0.8762\n",
      "782/782 [==============================] - 2s 2ms/step - loss: 0.3615 - accuracy: 0.8702\n",
      "Test Accuracy: 87.02%\n"
     ]
    }
   ],
   "source": [
    "import tensorflow as tf\n",
    "from tensorflow.keras.datasets import imdb\n",
    "from tensorflow.keras.preprocessing.sequence import pad_sequences\n",
    "from tensorflow.keras.models import Sequential\n",
    "from tensorflow.keras.layers import Embedding, Flatten, Dense\n",
    "\n",
    "# Load IMDB reviews dataset\n",
    "num_words = 10000  \n",
    "max_length = 200  \n",
    "(x_train, y_train), (x_test, y_test) = imdb.load_data(num_words=num_words)\n",
    "\n",
    "# Pad sequences to a fixed length\n",
    "x_train = pad_sequences(x_train, maxlen=max_length)\n",
    "x_test = pad_sequences(x_test, maxlen=max_length)\n",
    "\n",
    "# Create a simple classification model\n",
    "model = Sequential()\n",
    "model.add(Embedding(input_dim=num_words, output_dim=32, input_length=max_length))\n",
    "model.add(Flatten()) \n",
    "model.add(Dense(1, activation='sigmoid'))  \n",
    "model.compile(optimizer='adam', loss='binary_crossentropy', metrics=['accuracy'])\n",
    "model.summary()\n",
    "\n",
    "# Train for 10 epochs\n",
    "model.fit(x_train, y_train, epochs=10, batch_size=128, validation_split=0.2)\n",
    "\n",
    "# Evaluate on the test set\n",
    "loss, accuracy = model.evaluate(x_test, y_test)\n",
    "print(f'Test Accuracy: {accuracy * 100:.2f}%')\n"
   ]
  },
  {
   "cell_type": "code",
   "execution_count": 3,
   "id": "15e31c75-ef9c-479e-b9cf-68976b7f55cb",
   "metadata": {},
   "outputs": [
    {
     "name": "stderr",
     "output_type": "stream",
     "text": [
      "/Users/hpiercehoffman/code/venv/nitro/lib/python3.9/site-packages/keras/src/engine/training.py:3079: UserWarning: You are saving your model as an HDF5 file via `model.save()`. This file format is considered legacy. We recommend using instead the native Keras format, e.g. `model.save('my_model.keras')`.\n",
      "  saving_api.save_model(\n"
     ]
    }
   ],
   "source": [
    "model.save(\"sentiment_analysis_model.h5\")"
   ]
  },
  {
   "cell_type": "markdown",
   "id": "76304e02-3251-4251-bfdf-3b4e4227907d",
   "metadata": {},
   "source": [
    "### Now we'll serve the model ###"
   ]
  },
  {
   "cell_type": "code",
   "execution_count": 17,
   "id": "5ab4ecb4-36de-405e-a672-46d98aa128ce",
   "metadata": {},
   "outputs": [],
   "source": [
    "from fastapi import FastAPI\n",
    "from typing import List\n",
    "import tensorflow as tf\n",
    "from tensorflow.keras.preprocessing.sequence import pad_sequences\n",
    "\n",
    "app = FastAPI()\n",
    "model = tf.keras.models.load_model('sentiment_analysis_model.h5')\n",
    "max_length = 200\n",
    "\n",
    "@app.post(\"/predict\")\n",
    "def predict_sentiment(reviews: List[str]):\n",
    "    \n",
    "    # Tokenize and pad input sequences\n",
    "    tokenizer = tf.keras.datasets.imdb.get_word_index()\n",
    "    reviews_sequences = [[tokenizer.get(word, 0) for word in review.split()] for review in reviews]\n",
    "    reviews_sequences = pad_sequences(reviews_sequences, maxlen=max_length)\n",
    "    \n",
    "    # Make predictions\n",
    "    predictions = model.predict(reviews_sequences)\n",
    "    sentiment_predictions = [{'sentiment': 'positive' if pred >= 0.5 else 'negative', 'confidence': float(pred)} for pred in predictions]\n",
    "    return sentiment_predictions\n"
   ]
  },
  {
   "cell_type": "markdown",
   "id": "65fe2968-2f7c-4dff-a761-2b5ab66da710",
   "metadata": {},
   "source": [
    "### Save the tokenizer ###"
   ]
  },
  {
   "cell_type": "code",
   "execution_count": 19,
   "id": "1f661d69-60a3-4a95-89a9-b644583336ec",
   "metadata": {},
   "outputs": [],
   "source": [
    "tokenizer = tf.keras.datasets.imdb.get_word_index()"
   ]
  },
  {
   "cell_type": "code",
   "execution_count": 21,
   "id": "e57a93d4-6563-45ee-8e62-981d8a2f37fd",
   "metadata": {},
   "outputs": [],
   "source": [
    "import pickle\n",
    "with open('tokenizer.pickle', 'wb') as handle:\n",
    "    pickle.dump(tokenizer, handle, protocol=pickle.HIGHEST_PROTOCOL)"
   ]
  },
  {
   "cell_type": "markdown",
   "id": "5e6c6ab7-38d1-4927-85cf-814e2a6d60cc",
   "metadata": {},
   "source": [
    "### We will now test the model ###"
   ]
  },
  {
   "cell_type": "code",
   "execution_count": 1,
   "id": "790f4e8a-bc53-43b0-8a1c-4db365b74589",
   "metadata": {},
   "outputs": [
    {
     "name": "stdout",
     "output_type": "stream",
     "text": [
      "Sentiment: positive, Confidence: 0.58\n",
      "Sentiment: positive, Confidence: 0.78\n",
      "Sentiment: positive, Confidence: 0.67\n"
     ]
    }
   ],
   "source": [
    "import requests\n",
    "import json\n",
    "\n",
    "payload = [\n",
    "    \"This movie was fantastic! I loved every moment of it.\",\n",
    "    \"The acting was terrible, and the plot made no sense.\",\n",
    "    \"Average movie, not great but not terrible either.\" \n",
    "]\n",
    "\n",
    "response = requests.post(\"http://localhost:8888/predict\", json=payload)\n",
    "\n",
    "# Unpack and access the response content\n",
    "if response.status_code == 200:\n",
    "    sentiment_predictions = response.json()\n",
    "    for prediction in sentiment_predictions:\n",
    "        print(f\"Sentiment: {prediction['sentiment']}, Confidence: {prediction['confidence']:.2f}\")\n",
    "else:\n",
    "    print(f\"Request failed with status code: {response.status_code}\")\n",
    "    print(response.text)  "
   ]
  }
 ],
 "metadata": {
  "kernelspec": {
   "display_name": "Python 3 (ipykernel)",
   "language": "python",
   "name": "python3"
  },
  "language_info": {
   "codemirror_mode": {
    "name": "ipython",
    "version": 3
   },
   "file_extension": ".py",
   "mimetype": "text/x-python",
   "name": "python",
   "nbconvert_exporter": "python",
   "pygments_lexer": "ipython3",
   "version": "3.9.12"
  }
 },
 "nbformat": 4,
 "nbformat_minor": 5
}
