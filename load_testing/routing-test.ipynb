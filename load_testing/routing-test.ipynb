{
 "cells": [
  {
   "cell_type": "markdown",
   "id": "d5747d7c-0285-4bbe-81e8-1f5121dfd329",
   "metadata": {},
   "source": [
    "### Test dynamic rerouting service ###"
   ]
  },
  {
   "cell_type": "code",
   "execution_count": 5,
   "id": "330382ee-6f1f-430b-9c53-b379c0a9482a",
   "metadata": {},
   "outputs": [],
   "source": [
    "import requests\n",
    "import time\n",
    "import base64\n",
    "import pandas as pd\n",
    "from tqdm import tqdm\n",
    "import random\n",
    "import numpy as np\n",
    "\n",
    "import matplotlib.pyplot as plt\n",
    "import seaborn as sns"
   ]
  },
  {
   "cell_type": "code",
   "execution_count": 6,
   "id": "e0fb3e28-3969-42dd-9c7e-db3472ab0713",
   "metadata": {},
   "outputs": [],
   "source": [
    "def send_request(is_secure):\n",
    "    start_time = time.time()\n",
    "    url = base_url\n",
    "    if is_secure:\n",
    "        url = base_url + \"predict-secure/\"\n",
    "    else:\n",
    "        url = base_url + \"predict-public/\"\n",
    "    response = requests.post(url, json=sample_data)\n",
    "    response_time = time.time() - start_time\n",
    "    return response.status_code, response_time"
   ]
  },
  {
   "cell_type": "markdown",
   "id": "f6ab6a65-1cec-411d-bb15-d1cb732ba3f7",
   "metadata": {},
   "source": [
    "### Send groups of requests separately ###"
   ]
  },
  {
   "cell_type": "code",
   "execution_count": 4,
   "id": "0f7fd282-4c3f-43a6-8519-4fd1c77aba91",
   "metadata": {},
   "outputs": [
    {
     "name": "stdout",
     "output_type": "stream",
     "text": [
      "Sending requests...\n"
     ]
    },
    {
     "ename": "NameError",
     "evalue": "name 'sample_data' is not defined",
     "output_type": "error",
     "traceback": [
      "\u001b[0;31m---------------------------------------------------------------------------\u001b[0m",
      "\u001b[0;31mNameError\u001b[0m                                 Traceback (most recent call last)",
      "Cell \u001b[0;32mIn[4], line 12\u001b[0m\n\u001b[1;32m      9\u001b[0m \u001b[38;5;28mprint\u001b[39m(\u001b[38;5;124m'\u001b[39m\u001b[38;5;124mSending requests...\u001b[39m\u001b[38;5;124m'\u001b[39m)\n\u001b[1;32m     11\u001b[0m \u001b[38;5;28;01mfor\u001b[39;00m _ \u001b[38;5;129;01min\u001b[39;00m \u001b[38;5;28mrange\u001b[39m(num_public_requests):\n\u001b[0;32m---> 12\u001b[0m     status, time_taken \u001b[38;5;241m=\u001b[39m \u001b[43msend_request\u001b[49m\u001b[43m(\u001b[49m\u001b[43mis_secure\u001b[49m\u001b[38;5;241;43m=\u001b[39;49m\u001b[38;5;28;43;01mFalse\u001b[39;49;00m\u001b[43m)\u001b[49m\n\u001b[1;32m     13\u001b[0m     public_times\u001b[38;5;241m.\u001b[39mappend(time_taken)\n\u001b[1;32m     15\u001b[0m \u001b[38;5;28;01mfor\u001b[39;00m _ \u001b[38;5;129;01min\u001b[39;00m \u001b[38;5;28mrange\u001b[39m(num_secure_requests):\n",
      "Cell \u001b[0;32mIn[3], line 8\u001b[0m, in \u001b[0;36msend_request\u001b[0;34m(is_secure)\u001b[0m\n\u001b[1;32m      6\u001b[0m \u001b[38;5;28;01melse\u001b[39;00m:\n\u001b[1;32m      7\u001b[0m     url \u001b[38;5;241m=\u001b[39m base_url \u001b[38;5;241m+\u001b[39m \u001b[38;5;124m\"\u001b[39m\u001b[38;5;124mpredict-public/\u001b[39m\u001b[38;5;124m\"\u001b[39m\n\u001b[0;32m----> 8\u001b[0m response \u001b[38;5;241m=\u001b[39m requests\u001b[38;5;241m.\u001b[39mpost(url, json\u001b[38;5;241m=\u001b[39m\u001b[43msample_data\u001b[49m)\n\u001b[1;32m      9\u001b[0m response_time \u001b[38;5;241m=\u001b[39m time\u001b[38;5;241m.\u001b[39mtime() \u001b[38;5;241m-\u001b[39m start_time\n\u001b[1;32m     10\u001b[0m \u001b[38;5;28;01mreturn\u001b[39;00m response\u001b[38;5;241m.\u001b[39mstatus_code, response_time\n",
      "\u001b[0;31mNameError\u001b[0m: name 'sample_data' is not defined"
     ]
    }
   ],
   "source": [
    "public_times = []\n",
    "secure_times = []\n",
    "\n",
    "base_url = '18.223.114.102'  \n",
    "num_public_requests = 10\n",
    "num_secure_requests = 10\n",
    "batch_size = 2\n",
    "\n",
    "print('Sending requests...')\n",
    "\n",
    "for _ in range(num_public_requests):\n",
    "    status, time_taken = send_request(is_secure=False)\n",
    "    public_times.append(time_taken)\n",
    "\n",
    "for _ in range(num_secure_requests):\n",
    "    status, time_taken = send_request(is_secure=True)\n",
    "    secure_times.append(time_taken)\n",
    "\n",
    "avg_public_time = sum(public_times) / len(public_times)\n",
    "avg_secure_time = sum(secure_times) / len(secure_times)\n",
    "\n",
    "print(f'Average response time for public requests: {avg_public_time:.4f} seconds.')\n",
    "print(f'Average response time for secure requests: {avg_secure_time:.4f} seconds.')"
   ]
  },
  {
   "cell_type": "markdown",
   "id": "343a8b79-a091-4e6c-8da4-aa549e2e5a76",
   "metadata": {},
   "source": [
    "### Send intermixed in a single loop ###"
   ]
  },
  {
   "cell_type": "code",
   "execution_count": 12,
   "id": "30c0dbe8-165c-4c15-bfb4-8f6f9f2cf49b",
   "metadata": {},
   "outputs": [],
   "source": [
    "def base64_encode(image_path):\n",
    "    with open(image_path, \"rb\") as image_file:\n",
    "        return base64.b64encode(image_file.read()).decode(\"utf-8\")\n",
    "\n",
    "sample_image = \"sample_images/sample_cat.jpeg\"\n",
    "encoded_image = base64_encode(sample_image)\n",
    "encoded_images = [encoded_image] * batch_size\n",
    "\n",
    "sample_data = {\"images\": encoded_images}"
   ]
  },
  {
   "cell_type": "code",
   "execution_count": 8,
   "id": "61735e82-2939-4900-b8a7-f21cbf63217e",
   "metadata": {},
   "outputs": [],
   "source": [
    "def send_requests(base_url, num_public, num_secure, batch_size):\n",
    "\n",
    "    num_requests = num_public + num_secure\n",
    "    public_times = []\n",
    "    secure_times = []\n",
    "    \n",
    "    prob_secure = num_secure / num_requests\n",
    "    \n",
    "    print(f'Sending {num_secure} secure requests and {num_public} public requests with batch size {batch_size}')\n",
    "    \n",
    "    for _ in tqdm(range(num_requests), desc=\"Sending requests\"):\n",
    "        is_secure = random.random() < prob_secure  \n",
    "    \n",
    "        status, time_taken = send_request(is_secure=is_secure)\n",
    "        if is_secure:\n",
    "            secure_times.append(time_taken)\n",
    "        else:\n",
    "            public_times.append(time_taken)\n",
    "\n",
    "    stats = {\n",
    "        'Request Type': ['Public', 'Secure'],\n",
    "        'Average Time': [\n",
    "            sum(public_times) / len(public_times),\n",
    "            sum(secure_times) / len(secure_times)\n",
    "        ],\n",
    "        'Minimum Time': [min(public_times), min(secure_times)],\n",
    "        'Maximum Time': [max(public_times), max(secure_times)],\n",
    "        'Proportion Secure': prob_secure\n",
    "    }\n",
    "\n",
    "    result_df = pd.DataFrame(stats)\n",
    "    return result_df"
   ]
  },
  {
   "cell_type": "code",
   "execution_count": 15,
   "id": "0f03605e-3fa3-46c0-a348-29727e497344",
   "metadata": {},
   "outputs": [
    {
     "name": "stdout",
     "output_type": "stream",
     "text": [
      "Sending 5 secure requests and 5 public requests with batch size 2\n"
     ]
    },
    {
     "name": "stderr",
     "output_type": "stream",
     "text": [
      "Sending requests: 100%|████████████████████████████████████████████████████████████████████████████████████████████████████████| 10/10 [00:05<00:00,  1.87it/s]\n"
     ]
    }
   ],
   "source": [
    "base_url = 'http://18.223.114.102/'  \n",
    "num_public_requests = 5\n",
    "num_secure_requests = 5\n",
    "batch_size = 2\n",
    "\n",
    "df = send_requests(base_url, num_public_requests, num_secure_requests, batch_size)"
   ]
  },
  {
   "cell_type": "code",
   "execution_count": 16,
   "id": "d1106c37-5a8d-47ea-9f83-b7824cd3eddd",
   "metadata": {},
   "outputs": [
    {
     "data": {
      "text/html": [
       "<div>\n",
       "<style scoped>\n",
       "    .dataframe tbody tr th:only-of-type {\n",
       "        vertical-align: middle;\n",
       "    }\n",
       "\n",
       "    .dataframe tbody tr th {\n",
       "        vertical-align: top;\n",
       "    }\n",
       "\n",
       "    .dataframe thead th {\n",
       "        text-align: right;\n",
       "    }\n",
       "</style>\n",
       "<table border=\"1\" class=\"dataframe\">\n",
       "  <thead>\n",
       "    <tr style=\"text-align: right;\">\n",
       "      <th></th>\n",
       "      <th>Request Type</th>\n",
       "      <th>Average Time</th>\n",
       "      <th>Minimum Time</th>\n",
       "      <th>Maximum Time</th>\n",
       "      <th>Proportion Secure</th>\n",
       "    </tr>\n",
       "  </thead>\n",
       "  <tbody>\n",
       "    <tr>\n",
       "      <th>0</th>\n",
       "      <td>Public</td>\n",
       "      <td>0.393436</td>\n",
       "      <td>0.375042</td>\n",
       "      <td>0.409764</td>\n",
       "      <td>0.5</td>\n",
       "    </tr>\n",
       "    <tr>\n",
       "      <th>1</th>\n",
       "      <td>Secure</td>\n",
       "      <td>0.674325</td>\n",
       "      <td>0.481555</td>\n",
       "      <td>0.929695</td>\n",
       "      <td>0.5</td>\n",
       "    </tr>\n",
       "  </tbody>\n",
       "</table>\n",
       "</div>"
      ],
      "text/plain": [
       "  Request Type  Average Time  Minimum Time  Maximum Time  Proportion Secure\n",
       "0       Public      0.393436      0.375042      0.409764                0.5\n",
       "1       Secure      0.674325      0.481555      0.929695                0.5"
      ]
     },
     "execution_count": 16,
     "metadata": {},
     "output_type": "execute_result"
    }
   ],
   "source": [
    "df"
   ]
  },
  {
   "cell_type": "code",
   "execution_count": 22,
   "id": "769b0235-5aa1-42eb-b257-818faab110f4",
   "metadata": {},
   "outputs": [
    {
     "name": "stdout",
     "output_type": "stream",
     "text": [
      "Sending 100 secure requests and 100 public requests with batch size 2\n"
     ]
    },
    {
     "name": "stderr",
     "output_type": "stream",
     "text": [
      "Sending requests: 100%|██████████████████████████████████████████████████████████████████████████████████████████████████████| 200/200 [01:40<00:00,  2.00it/s]\n"
     ]
    },
    {
     "data": {
      "text/html": [
       "<div>\n",
       "<style scoped>\n",
       "    .dataframe tbody tr th:only-of-type {\n",
       "        vertical-align: middle;\n",
       "    }\n",
       "\n",
       "    .dataframe tbody tr th {\n",
       "        vertical-align: top;\n",
       "    }\n",
       "\n",
       "    .dataframe thead th {\n",
       "        text-align: right;\n",
       "    }\n",
       "</style>\n",
       "<table border=\"1\" class=\"dataframe\">\n",
       "  <thead>\n",
       "    <tr style=\"text-align: right;\">\n",
       "      <th></th>\n",
       "      <th>Request Type</th>\n",
       "      <th>Average Time</th>\n",
       "      <th>Minimum Time</th>\n",
       "      <th>Maximum Time</th>\n",
       "      <th>Proportion Secure</th>\n",
       "    </tr>\n",
       "  </thead>\n",
       "  <tbody>\n",
       "    <tr>\n",
       "      <th>0</th>\n",
       "      <td>Public</td>\n",
       "      <td>0.439993</td>\n",
       "      <td>0.363164</td>\n",
       "      <td>0.942216</td>\n",
       "      <td>0.5</td>\n",
       "    </tr>\n",
       "    <tr>\n",
       "      <th>1</th>\n",
       "      <td>Secure</td>\n",
       "      <td>0.547611</td>\n",
       "      <td>0.451129</td>\n",
       "      <td>0.959439</td>\n",
       "      <td>0.5</td>\n",
       "    </tr>\n",
       "  </tbody>\n",
       "</table>\n",
       "</div>"
      ],
      "text/plain": [
       "  Request Type  Average Time  Minimum Time  Maximum Time  Proportion Secure\n",
       "0       Public      0.439993      0.363164      0.942216                0.5\n",
       "1       Secure      0.547611      0.451129      0.959439                0.5"
      ]
     },
     "execution_count": 22,
     "metadata": {},
     "output_type": "execute_result"
    }
   ],
   "source": [
    "#splits = [(20, 80), (40, 60), (50, 50), (60, 40), (80, 20)]\n",
    "splits = [(100, 100)]\n",
    "\n",
    "results = [] \n",
    "for public, secure in splits:\n",
    "    df = send_requests(base_url, public, secure, batch_size)\n",
    "    results.append(df)\n",
    "combined_df = pd.concat(results, ignore_index=True)\n",
    "\n",
    "combined_df"
   ]
  },
  {
   "cell_type": "code",
   "execution_count": 43,
   "id": "6d6f8b93-745f-4b52-992f-63a1fb151a70",
   "metadata": {},
   "outputs": [
    {
     "data": {
      "image/png": "[encoded data removed]",
      "text/plain": [
       "<Figure size 1303.74x600 with 1 Axes>"
      ]
     },
     "metadata": {},
     "output_type": "display_data"
    }
   ],
   "source": [
    "palette = {'Public': '#05aff2', 'Secure': '#056cf2'} \n",
    "\n",
    "g = sns.catplot(\n",
    "    data=combined_df, \n",
    "    x='Proportion Secure', \n",
    "    y='Maximum Time', \n",
    "    hue='Request Type', \n",
    "    kind='bar', \n",
    "    height=6, \n",
    "    aspect=2, \n",
    "    palette=palette\n",
    ")\n",
    "\n",
    "g.set_axis_labels(\"Proportion Secure Requests\", \"Maximum Latency (s)\", fontsize=20)\n",
    "g.set_xticklabels(fontsize=16)\n",
    "g.set_yticklabels(fontsize=16)\n",
    "\n",
    "new_labels = ['Docker', 'Enclave'] \n",
    "g._legend.set_title('Server Type')\n",
    "for t, l in zip(g._legend.texts, new_labels): t.set_text(l)\n",
    "\n",
    "plt.setp(g._legend.get_texts(), fontsize=16)  # for legend text\n",
    "plt.setp(g._legend.get_title(), fontsize=18)  # for legend title\n",
    "g._legend.set_bbox_to_anchor((1, 1))\n",
    "g._legend._loc = 2 \n",
    "\n",
    "# Show plot\n",
    "plt.show()\n"
   ]
  },
  {
   "cell_type": "code",
   "execution_count": 46,
   "id": "03415db3-8560-4f15-8c90-220d4cbdd951",
   "metadata": {},
   "outputs": [],
   "source": [
    "combined_df.to_csv(\"results/routing_test_batch2_no_threads.csv\", index=False)"
   ]
  },
  {
   "cell_type": "code",
   "execution_count": null,
   "id": "567e6b41-f545-4f4f-8b57-0cb82ae745f3",
   "metadata": {},
   "outputs": [],
   "source": []
  },
  {
   "cell_type": "code",
   "execution_count": null,
   "id": "bf050cd6-6ef5-47a9-93d0-44097302baba",
   "metadata": {},
   "outputs": [],
   "source": []
  }
 ],
 "metadata": {
  "kernelspec": {
   "display_name": "Python 3 (ipykernel)",
   "language": "python",
   "name": "python3"
  },
  "language_info": {
   "codemirror_mode": {
    "name": "ipython",
    "version": 3
   },
   "file_extension": ".py",
   "mimetype": "text/x-python",
   "name": "python",
   "nbconvert_exporter": "python",
   "pygments_lexer": "ipython3",
   "version": "3.9.12"
  }
 },
 "nbformat": 4,
 "nbformat_minor": 5
}
