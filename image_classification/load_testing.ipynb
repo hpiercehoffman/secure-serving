{
 "cells": [
  {
   "cell_type": "code",
   "execution_count": 6,
   "id": "a8396c65-0fed-40f7-a210-b391d323c7e4",
   "metadata": {},
   "outputs": [],
   "source": [
    "import requests\n",
    "import time\n",
    "import concurrent.futures\n",
    "import base64"
   ]
  },
  {
   "cell_type": "code",
   "execution_count": 7,
   "id": "25ec8bc3-c0a9-454b-a50a-79c5ae89ad37",
   "metadata": {},
   "outputs": [],
   "source": [
    "def base64_encode(image_path):\n",
    "    with open(image_path, \"rb\") as image_file:\n",
    "        return base64.b64encode(image_file.read()).decode(\"utf-8\")\n",
    "\n",
    "def test_single_request(encoded_image, url):\n",
    "    start_time = time.time()\n",
    "    response = requests.post(url, json={\"image\": encoded_image})\n",
    "    elapsed_time = time.time() - start_time\n",
    "\n",
    "    if response.status_code == 200:\n",
    "        return elapsed_time\n",
    "    else:\n",
    "        return None"
   ]
  },
  {
   "cell_type": "code",
   "execution_count": 8,
   "id": "18f148bc-91fd-483a-8a2e-f85183b2a264",
   "metadata": {},
   "outputs": [],
   "source": [
    "def load_test(encoded_image, url, num_requests):\n",
    "    with concurrent.futures.ThreadPoolExecutor() as executor:\n",
    "        futures = [executor.submit(test_single_request, encoded_image, url) for _ in range(num_requests)]\n",
    "        results = [f.result() for f in concurrent.futures.as_completed(futures)]\n",
    "\n",
    "    results = [result for result in results if result is not None]\n",
    "    return results"
   ]
  },
  {
   "cell_type": "code",
   "execution_count": 14,
   "id": "539dc7d0-42ae-4fd5-a195-39b90860c67b",
   "metadata": {},
   "outputs": [
    {
     "name": "stdout",
     "output_type": "stream",
     "text": [
      "Starting load test with 1 concurrent requests...\n",
      "Average latency: 0.5274 seconds\n",
      "Min latency: 0.5274 seconds\n",
      "Max latency: 0.5274 seconds\n"
     ]
    }
   ],
   "source": [
    "def run_load_tests(url, sample_image, num_requests):\n",
    "\n",
    "    encoded_image = base64_encode(sample_image)\n",
    "    \n",
    "    print(f\"Starting load test with {num_requests} concurrent requests...\")\n",
    "    latencies = load_test(encoded_image, url, num_requests)\n",
    "\n",
    "    average_latency = sum(latencies) / len(latencies)\n",
    "    print(f\"Average latency: {average_latency:.4f} seconds\")\n",
    "    print(f\"Min latency: {min(latencies):.4f} seconds\")\n",
    "    print(f\"Max latency: {max(latencies):.4f} seconds\")\n",
    "\n",
    "run_load_tests(\"http://localhost:8888/predict/\", \"public/sample_images/sample_cat.jpeg\", 1)"
   ]
  },
  {
   "cell_type": "markdown",
   "id": "d495d8cb-01bc-47c8-a846-7abb930a3e9c",
   "metadata": {},
   "source": [
    "### Multi requests ###"
   ]
  },
  {
   "cell_type": "code",
   "execution_count": 15,
   "id": "08bf23f1-b0fa-496a-bad4-8db073ba3960",
   "metadata": {},
   "outputs": [],
   "source": [
    "def test_batch_request(encoded_images, url):\n",
    "    start_time = time.time()\n",
    "    response = requests.post(url, json={\"images\": encoded_images})\n",
    "    elapsed_time = time.time() - start_time\n",
    "\n",
    "    if response.status_code == 200:\n",
    "        return elapsed_time, response.json()\n",
    "    else:\n",
    "        print(f\"Request failed with status code: {response.status_code}\")\n",
    "        return None"
   ]
  },
  {
   "cell_type": "code",
   "execution_count": 32,
   "id": "38dcca48-fda0-47f6-9709-c57d67954fb9",
   "metadata": {},
   "outputs": [],
   "source": [
    "def concurrent_batch_test(encoded_images, url, num_requests):\n",
    "   \n",
    "    with concurrent.futures.ThreadPoolExecutor() as executor:\n",
    "        futures = [executor.submit(test_batch_request, encoded_images, url) for _ in range(num_requests)]\n",
    "        results = [f.result() for f in concurrent.futures.as_completed(futures)]\n",
    "    \n",
    "    results = [result for result in results if result is not None]\n",
    "    return results"
   ]
  },
  {
   "cell_type": "code",
   "execution_count": 44,
   "id": "15cfefa1-8980-462f-9388-77a0437316a6",
   "metadata": {},
   "outputs": [
    {
     "name": "stdout",
     "output_type": "stream",
     "text": [
      "Starting batch test with 50 concurrent requests...\n",
      "Average latency: 5.8854 seconds\n",
      "Min latency: 1.3917 seconds\n",
      "Max latency: 8.4781 seconds\n"
     ]
    }
   ],
   "source": [
    "def run_load_test_batch(url, sample_image, batch_size, num_requests):\n",
    "\n",
    "    encoded_image = base64_encode(sample_image)\n",
    "    encoded_images = [encoded_image] * batch_size\n",
    "\n",
    "    print(f\"Starting batch test with {num_requests} concurrent requests...\")\n",
    "    test_results = concurrent_batch_test(encoded_images, url, num_requests)\n",
    "\n",
    "    latencies = [result[0] for result in test_results]\n",
    "    average_latency = sum(latencies) / len(latencies)\n",
    "    print(f\"Average latency: {average_latency:.4f} seconds\")\n",
    "    print(f\"Min latency: {min(latencies):.4f} seconds\")\n",
    "    print(f\"Max latency: {max(latencies):.4f} seconds\")\n",
    "\n",
    "# local\n",
    "run_load_test_batch(\"http://localhost:9000/predict/\", \"public/sample_images/sample_cat.jpeg\", 10, 50)"
   ]
  },
  {
   "cell_type": "code",
   "execution_count": 38,
   "id": "52cd9b7a-950f-4ac4-ad49-0fb3c763f551",
   "metadata": {},
   "outputs": [
    {
     "name": "stdout",
     "output_type": "stream",
     "text": [
      "Starting batch test with 50 concurrent requests...\n",
      "Average latency: 36.7901 seconds\n"
     ]
    }
   ],
   "source": [
    "# Enclave without KMS test 1\n",
    "run_load_test_batch(\"http://localhost:8888/predict/\", \"public/sample_images/sample_cat.jpeg\", 10, 50)"
   ]
  },
  {
   "cell_type": "code",
   "execution_count": 40,
   "id": "9e7082cb-7a97-4f24-ab74-ab63382955ab",
   "metadata": {},
   "outputs": [
    {
     "name": "stdout",
     "output_type": "stream",
     "text": [
      "Starting batch test with 50 concurrent requests...\n",
      "Average latency: 12.6687 seconds\n"
     ]
    }
   ],
   "source": [
    "# Public test 1\n",
    "run_load_test_batch(\"http://localhost:8888/predict/\", \"public/sample_images/sample_cat.jpeg\", 10, 50)"
   ]
  },
  {
   "cell_type": "code",
   "execution_count": 43,
   "id": "b6ab966b-9682-4b1d-8c66-72e544621c5e",
   "metadata": {},
   "outputs": [
    {
     "name": "stdout",
     "output_type": "stream",
     "text": [
      "Starting batch test with 50 concurrent requests...\n",
      "Average latency: 16.0052 seconds\n"
     ]
    }
   ],
   "source": [
    "# Enclave with KMS test 1\n",
    "run_load_test_batch(\"http://localhost:8888/predict/\", \"public/sample_images/sample_cat.jpeg\", 10, 50)"
   ]
  },
  {
   "cell_type": "code",
   "execution_count": 47,
   "id": "5141e601-88bf-4156-8914-e5567ffc7b10",
   "metadata": {},
   "outputs": [
    {
     "name": "stdout",
     "output_type": "stream",
     "text": [
      "Starting batch test with 50 concurrent requests...\n",
      "Average latency: 7.9189 seconds\n",
      "Min latency: 4.6721 seconds\n",
      "Max latency: 10.5994 seconds\n"
     ]
    }
   ],
   "source": [
    "# Enclave without KMS test 2\n",
    "run_load_test_batch(\"http://localhost:8888/predict/\", \"public/sample_images/sample_cat.jpeg\", 10, 50)"
   ]
  },
  {
   "cell_type": "code",
   "execution_count": 49,
   "id": "788e17cc-44ca-4ede-ba91-76a8a50c1482",
   "metadata": {},
   "outputs": [
    {
     "name": "stdout",
     "output_type": "stream",
     "text": [
      "Starting batch test with 50 concurrent requests...\n",
      "Average latency: 7.7820 seconds\n",
      "Min latency: 3.0985 seconds\n",
      "Max latency: 10.1374 seconds\n"
     ]
    }
   ],
   "source": [
    "# Public test 2\n",
    "run_load_test_batch(\"http://localhost:8888/predict/\", \"public/sample_images/sample_cat.jpeg\", 10, 50)"
   ]
  },
  {
   "cell_type": "code",
   "execution_count": 46,
   "id": "06121866-67e1-4df7-bf85-f760ea18461f",
   "metadata": {},
   "outputs": [
    {
     "name": "stdout",
     "output_type": "stream",
     "text": [
      "Starting batch test with 50 concurrent requests...\n",
      "Average latency: 8.1429 seconds\n",
      "Min latency: 4.3737 seconds\n",
      "Max latency: 11.7411 seconds\n"
     ]
    }
   ],
   "source": [
    "# Enclave with KMS test 2\n",
    "run_load_test_batch(\"http://localhost:8888/predict/\", \"public/sample_images/sample_cat.jpeg\", 10, 50)"
   ]
  },
  {
   "cell_type": "markdown",
   "id": "0e962bf6-24dc-4483-978b-520342874ba1",
   "metadata": {},
   "source": [
    "### Larger batch size ###"
   ]
  },
  {
   "cell_type": "code",
   "execution_count": 52,
   "id": "951dc2db-abf9-4c83-88d7-87e65c04d487",
   "metadata": {},
   "outputs": [
    {
     "name": "stdout",
     "output_type": "stream",
     "text": [
      "Starting batch test with 50 concurrent requests...\n",
      "Average latency: 16.4848 seconds\n",
      "Min latency: 8.9849 seconds\n",
      "Max latency: 25.3730 seconds\n"
     ]
    }
   ],
   "source": [
    "# Enclave without KMS test 2\n",
    "run_load_test_batch(\"http://localhost:8888/predict/\", \"public/sample_images/sample_cat.jpeg\", 20, 50)"
   ]
  },
  {
   "cell_type": "code",
   "execution_count": 50,
   "id": "7440c5a6-9fb0-4000-9b47-62a491974e70",
   "metadata": {},
   "outputs": [
    {
     "name": "stdout",
     "output_type": "stream",
     "text": [
      "Starting batch test with 50 concurrent requests...\n",
      "Average latency: 20.1880 seconds\n",
      "Min latency: 9.0492 seconds\n",
      "Max latency: 26.8044 seconds\n"
     ]
    }
   ],
   "source": [
    "# Public test 2\n",
    "run_load_test_batch(\"http://localhost:8888/predict/\", \"public/sample_images/sample_cat.jpeg\", 20, 50)"
   ]
  },
  {
   "cell_type": "code",
   "execution_count": 51,
   "id": "c93e6e07-a0d8-4aa9-b266-0cba7b26d3be",
   "metadata": {},
   "outputs": [
    {
     "name": "stdout",
     "output_type": "stream",
     "text": [
      "Starting batch test with 50 concurrent requests...\n",
      "Average latency: 20.9921 seconds\n",
      "Min latency: 9.0141 seconds\n",
      "Max latency: 26.1185 seconds\n"
     ]
    }
   ],
   "source": [
    "# Enclave with KMS test 2\n",
    "run_load_test_batch(\"http://localhost:8888/predict/\", \"public/sample_images/sample_cat.jpeg\", 20, 50)"
   ]
  },
  {
   "cell_type": "markdown",
   "id": "55308d4d-bb40-4571-9724-cce305d09ff1",
   "metadata": {},
   "source": [
    "### More concurrent requests ###"
   ]
  },
  {
   "cell_type": "code",
   "execution_count": 54,
   "id": "b4a0aa3a-ce22-4673-bb93-e36c5ba5563b",
   "metadata": {},
   "outputs": [
    {
     "name": "stdout",
     "output_type": "stream",
     "text": [
      "Starting batch test with 100 concurrent requests...\n",
      "Average latency: 17.4543 seconds\n",
      "Min latency: 8.8289 seconds\n",
      "Max latency: 25.4990 seconds\n"
     ]
    }
   ],
   "source": [
    "# Enclave without KMS test 2\n",
    "run_load_test_batch(\"http://localhost:8888/predict/\", \"public/sample_images/sample_cat.jpeg\", 20, 100)"
   ]
  },
  {
   "cell_type": "code",
   "execution_count": 53,
   "id": "dcad78e9-0546-4d2f-9995-e48d52ed3577",
   "metadata": {},
   "outputs": [
    {
     "name": "stdout",
     "output_type": "stream",
     "text": [
      "Starting batch test with 100 concurrent requests...\n",
      "Average latency: 16.4251 seconds\n",
      "Min latency: 9.2622 seconds\n",
      "Max latency: 22.8421 seconds\n"
     ]
    }
   ],
   "source": [
    "# Public test 2\n",
    "run_load_test_batch(\"http://localhost:8888/predict/\", \"public/sample_images/sample_cat.jpeg\", 20, 100)"
   ]
  },
  {
   "cell_type": "code",
   "execution_count": 55,
   "id": "81ac8587-b68f-4852-af3f-405bb4328525",
   "metadata": {},
   "outputs": [
    {
     "name": "stdout",
     "output_type": "stream",
     "text": [
      "Starting batch test with 100 concurrent requests...\n",
      "Average latency: 18.3277 seconds\n",
      "Min latency: 7.4616 seconds\n",
      "Max latency: 25.9433 seconds\n"
     ]
    }
   ],
   "source": [
    "# Enclave with KMS test 2\n",
    "run_load_test_batch(\"http://localhost:8888/predict/\", \"public/sample_images/sample_cat.jpeg\", 20, 100)"
   ]
  }
 ],
 "metadata": {
  "kernelspec": {
   "display_name": "Python 3 (ipykernel)",
   "language": "python",
   "name": "python3"
  },
  "language_info": {
   "codemirror_mode": {
    "name": "ipython",
    "version": 3
   },
   "file_extension": ".py",
   "mimetype": "text/x-python",
   "name": "python",
   "nbconvert_exporter": "python",
   "pygments_lexer": "ipython3",
   "version": "3.9.12"
  }
 },
 "nbformat": 4,
 "nbformat_minor": 5
}
