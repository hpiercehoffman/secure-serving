{
 "cells": [
  {
   "cell_type": "markdown",
   "id": "d5747d7c-0285-4bbe-81e8-1f5121dfd329",
   "metadata": {},
   "source": [
    "### Test dynamic rerouting service ###"
   ]
  },
  {
   "cell_type": "code",
   "execution_count": 103,
   "id": "330382ee-6f1f-430b-9c53-b379c0a9482a",
   "metadata": {},
   "outputs": [],
   "source": [
    "import requests\n",
    "import time\n",
    "import base64\n",
    "import pandas as pd\n",
    "from tqdm import tqdm\n",
    "import random"
   ]
  },
  {
   "cell_type": "code",
   "execution_count": 97,
   "id": "30c0dbe8-165c-4c15-bfb4-8f6f9f2cf49b",
   "metadata": {},
   "outputs": [],
   "source": [
    "def base64_encode(image_path):\n",
    "    with open(image_path, \"rb\") as image_file:\n",
    "        return base64.b64encode(image_file.read()).decode(\"utf-8\")\n",
    "\n",
    "sample_image = \"sample_images/sample_cat.jpeg\"\n",
    "encoded_image = base64_encode(sample_image)\n",
    "encoded_images = [encoded_image] * batch_size\n",
    "\n",
    "sample_data = {\"images\": encoded_images}"
   ]
  },
  {
   "cell_type": "code",
   "execution_count": 100,
   "id": "e0fb3e28-3969-42dd-9c7e-db3472ab0713",
   "metadata": {},
   "outputs": [],
   "source": [
    "def send_request(is_secure):\n",
    "    start_time = time.time()\n",
    "    url = base_url\n",
    "    if is_secure:\n",
    "        url = base_url + \"predict-secure/\"\n",
    "    else:\n",
    "        url = base_url + \"predict-public/\"\n",
    "    response = requests.post(url, json=sample_data)\n",
    "    response_time = time.time() - start_time\n",
    "    return response.status_code, response_time"
   ]
  },
  {
   "cell_type": "markdown",
   "id": "f6ab6a65-1cec-411d-bb15-d1cb732ba3f7",
   "metadata": {},
   "source": [
    "### Send groups of requests separately ###"
   ]
  },
  {
   "cell_type": "code",
   "execution_count": 102,
   "id": "0f7fd282-4c3f-43a6-8519-4fd1c77aba91",
   "metadata": {},
   "outputs": [
    {
     "name": "stdout",
     "output_type": "stream",
     "text": [
      "Sending requests...\n",
      "Average response time for public requests: 0.3290 seconds.\n",
      "Average response time for secure requests: 0.3537 seconds.\n"
     ]
    }
   ],
   "source": [
    "public_times = []\n",
    "secure_times = []\n",
    "\n",
    "base_url = 'http://18.223.112.165/'  \n",
    "num_public_requests = 10\n",
    "num_secure_requests = 10\n",
    "batch_size = 2\n",
    "\n",
    "print('Sending requests...')\n",
    "\n",
    "for _ in range(num_public_requests):\n",
    "    status, time_taken = send_request(is_secure=False)\n",
    "    public_times.append(time_taken)\n",
    "\n",
    "for _ in range(num_secure_requests):\n",
    "    status, time_taken = send_request(is_secure=True)\n",
    "    secure_times.append(time_taken)\n",
    "\n",
    "avg_public_time = sum(public_times) / len(public_times)\n",
    "avg_secure_time = sum(secure_times) / len(secure_times)\n",
    "\n",
    "print(f'Average response time for public requests: {avg_public_time:.4f} seconds.')\n",
    "print(f'Average response time for secure requests: {avg_secure_time:.4f} seconds.')"
   ]
  },
  {
   "cell_type": "markdown",
   "id": "343a8b79-a091-4e6c-8da4-aa549e2e5a76",
   "metadata": {},
   "source": [
    "### Send intermixed in a single loop ###"
   ]
  },
  {
   "cell_type": "code",
   "execution_count": 106,
   "id": "0f03605e-3fa3-46c0-a348-29727e497344",
   "metadata": {},
   "outputs": [
    {
     "name": "stdout",
     "output_type": "stream",
     "text": [
      "Sending 80 secure requests and 20 public requests with batch size 2\n"
     ]
    },
    {
     "name": "stderr",
     "output_type": "stream",
     "text": [
      "Sending requests: 100%|██████████████████████████████████████████████████████████████████████████████████████| 100/100 [00:35<00:00,  2.81it/s]"
     ]
    },
    {
     "name": "stdout",
     "output_type": "stream",
     "text": [
      "Public Requests - Avg: 0.3154, Min: 0.2801, Max: 0.3635 seconds.\n",
      "Secure Requests - Avg: 0.3655, Min: 0.3103, Max: 0.5740 seconds.\n"
     ]
    },
    {
     "name": "stderr",
     "output_type": "stream",
     "text": [
      "\n"
     ]
    }
   ],
   "source": [
    "base_url = 'http://18.223.112.165/'  \n",
    "num_public_requests = 20\n",
    "num_secure_requests = 80\n",
    "batch_size = 2\n",
    "\n",
    "num_requests = num_public_requests + num_secure_requests\n",
    "public_times = []\n",
    "secure_times = []\n",
    "\n",
    "prob_secure = num_secure_requests / num_requests\n",
    "\n",
    "print(f'Sending {num_secure_requests} secure requests and {num_public_requests} public requests with batch size {batch_size}')\n",
    "\n",
    "for _ in tqdm(range(num_requests), desc=\"Sending requests\"):\n",
    "    is_secure = random.random() < prob_secure  \n",
    "\n",
    "    status, time_taken = send_request(is_secure=is_secure)\n",
    "    if is_secure:\n",
    "        secure_times.append(time_taken)\n",
    "    else:\n",
    "        public_times.append(time_taken)\n",
    "\n",
    "avg_public_time = sum(public_times) / len(public_times) if public_times else 0\n",
    "min_public_time = min(public_times) if public_times else 0\n",
    "max_public_time = max(public_times) if public_times else 0\n",
    "\n",
    "avg_secure_time = sum(secure_times) / len(secure_times) if secure_times else 0\n",
    "min_secure_time = min(secure_times) if secure_times else 0\n",
    "max_secure_time = max(secure_times) if secure_times else 0\n",
    "\n",
    "print(f'Public Requests - Avg: {avg_public_time:.4f}, Min: {min_public_time:.4f}, Max: {max_public_time:.4f} seconds.')\n",
    "print(f'Secure Requests - Avg: {avg_secure_time:.4f}, Min: {min_secure_time:.4f}, Max: {max_secure_time:.4f} seconds.')"
   ]
  },
  {
   "cell_type": "code",
   "execution_count": null,
   "id": "d1106c37-5a8d-47ea-9f83-b7824cd3eddd",
   "metadata": {},
   "outputs": [],
   "source": []
  }
 ],
 "metadata": {
  "kernelspec": {
   "display_name": "Python 3 (ipykernel)",
   "language": "python",
   "name": "python3"
  },
  "language_info": {
   "codemirror_mode": {
    "name": "ipython",
    "version": 3
   },
   "file_extension": ".py",
   "mimetype": "text/x-python",
   "name": "python",
   "nbconvert_exporter": "python",
   "pygments_lexer": "ipython3",
   "version": "3.9.12"
  }
 },
 "nbformat": 4,
 "nbformat_minor": 5
}
